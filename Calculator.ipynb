{
 "cells": [
  {
   "cell_type": "markdown",
   "id": "518de5bf-1e66-41db-8648-07495f03cd56",
   "metadata": {},
   "source": [
    "**2.** **Calculator**\n",
    "\n",
    "Build a program that can be used as a basic calculator. Your program should have a menu displayed for the user to choose from, where are listed basic operations: addition, subtraction multiplication, division, second power, square root, exit.\n",
    "\n",
    "The program should allow the user to choose the desired operation over and over again until user chooses to quit using it.\n"
   ]
  },
  {
   "cell_type": "code",
   "execution_count": null,
   "id": "de1b1001-7fe9-4ec4-a99d-0bd6e99ae9b8",
   "metadata": {},
   "outputs": [
    {
     "name": "stdout",
     "output_type": "stream",
     "text": [
      "\n",
      "==== BASIC CALCULATOR ====\n",
      "1. Add\n",
      "2. Subtract\n",
      "3. Multiply\n",
      "4. Divide\n",
      "5. Power (x²)\n",
      "6. Square Root\n",
      "7. Exit\n",
      "==========================\n"
     ]
    }
   ],
   "source": [
    "import math\n",
    "\n",
    "def show_menu():\n",
    "    print(\"\\n==== BASIC CALCULATOR ====\")\n",
    "    print(\"1. Add\")\n",
    "    print(\"2. Subtract\")\n",
    "    print(\"3. Multiply\")\n",
    "    print(\"4. Divide\")\n",
    "    print(\"5. Power (x²)\")\n",
    "    print(\"6. Square Root\")\n",
    "    print(\"7. Exit\")\n",
    "    print(\"==========================\")\n",
    "\n",
    "operations = {\n",
    "    \"1\": lambda: float(input(\"First number: \")) + float(input(\"Second number: \")),\n",
    "    \"2\": lambda: float(input(\"First number: \")) - float(input(\"Second number: \")),\n",
    "    \"3\": lambda: float(input(\"First number: \")) * float(input(\"Second number: \")),\n",
    "    \"4\": lambda: (lambda a, b: a / b if b != 0 else \"Error: Division by zero\")(\n",
    "                    float(input(\"Dividend: \")), float(input(\"Divisor: \"))),\n",
    "    \"5\": lambda: float(input(\"Number: \")) ** 2,\n",
    "    \"6\": lambda: math.sqrt(float(input(\"Number: \")))\n",
    "}\n",
    "\n",
    "def calculator():\n",
    "    while True:\n",
    "        show_menu()\n",
    "        choice = input(\"Choose operation (1-7): \").strip()\n",
    "        if choice == \"7\":\n",
    "            print(\"Goodbye!\")\n",
    "            break\n",
    "        action = operations.get(choice)\n",
    "        if action:\n",
    "            try:\n",
    "                result = action()\n",
    "                print(\"Result:\", result)\n",
    "            except ValueError:\n",
    "                print(\"Invalid input! Please enter numbers only.\")\n",
    "        else:\n",
    "            print(\"Invalid option. Try again.\")\n",
    "\n",
    "calculator()"
   ]
  },
  {
   "cell_type": "code",
   "execution_count": null,
   "id": "a33a97cf-b675-423e-a666-b49b31a64a4d",
   "metadata": {},
   "outputs": [],
   "source": []
  }
 ],
 "metadata": {
  "kernelspec": {
   "display_name": "Python 3 (ipykernel)",
   "language": "python",
   "name": "python3"
  },
  "language_info": {
   "codemirror_mode": {
    "name": "ipython",
    "version": 3
   },
   "file_extension": ".py",
   "mimetype": "text/x-python",
   "name": "python",
   "nbconvert_exporter": "python",
   "pygments_lexer": "ipython3",
   "version": "3.13.5"
  }
 },
 "nbformat": 4,
 "nbformat_minor": 5
}
